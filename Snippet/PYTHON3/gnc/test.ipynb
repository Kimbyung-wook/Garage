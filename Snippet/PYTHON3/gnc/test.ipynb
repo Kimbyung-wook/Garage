{
 "metadata": {
  "language_info": {
   "codemirror_mode": {
    "name": "ipython",
    "version": 3
   },
   "file_extension": ".py",
   "mimetype": "text/x-python",
   "name": "python",
   "nbconvert_exporter": "python",
   "pygments_lexer": "ipython3",
   "version": "3.7.13-final"
  },
  "orig_nbformat": 2,
  "kernelspec": {
   "name": "python3",
   "display_name": "Python 3.7.13 64-bit ('dynamics': conda)",
   "metadata": {
    "interpreter": {
     "hash": "2c72d1d257cceebfa278ef47c6edbf1c5cdca06cef730238ca9e983b60b03b61"
    }
   }
  }
 },
 "nbformat": 4,
 "nbformat_minor": 2,
 "cells": [
  {
   "cell_type": "code",
   "execution_count": 1,
   "metadata": {},
   "outputs": [],
   "source": [
    "%matplotlib tk\n",
    "import matplotlib.pyplot as plt\n",
    "import math\n",
    "import numpy as np\n",
    "from guidance import guidance_l1\n",
    "from drawnow import *\n",
    "def DCM(psi_rad):\n",
    "    dcm = np.matrix([[+math.cos(psi_rad), +math.sin(psi_rad)],\n",
    "                     [-math.sin(psi_rad), +math.cos(psi_rad)]])\n",
    "    return dcm"
   ]
  },
  {
   "cell_type": "code",
   "execution_count": 2,
   "metadata": {},
   "outputs": [
    {
     "output_type": "stream",
     "name": "stderr",
     "text": [
      "Exception in Tkinter callback\nTraceback (most recent call last):\n  File \"C:\\Users\\bw\\.conda\\envs\\dynamics\\lib\\tkinter\\__init__.py\", line 1705, in __call__\n    return self.func(*args)\n  File \"C:\\Users\\bw\\.conda\\envs\\dynamics\\lib\\tkinter\\__init__.py\", line 749, in callit\n    func(*args)\n  File \"C:\\Users\\bw\\.conda\\envs\\dynamics\\lib\\site-packages\\matplotlib\\backends\\_backend_tk.py\", line 251, in idle_draw\n    self.draw()\n  File \"C:\\Users\\bw\\.conda\\envs\\dynamics\\lib\\site-packages\\matplotlib\\backends\\backend_tkagg.py\", line 9, in draw\n    super().draw()\n  File \"C:\\Users\\bw\\.conda\\envs\\dynamics\\lib\\site-packages\\matplotlib\\backends\\backend_agg.py\", line 436, in draw\n    self.figure.draw(self.renderer)\n  File \"C:\\Users\\bw\\.conda\\envs\\dynamics\\lib\\site-packages\\matplotlib\\artist.py\", line 73, in draw_wrapper\n    result = draw(artist, renderer, *args, **kwargs)\n  File \"C:\\Users\\bw\\.conda\\envs\\dynamics\\lib\\site-packages\\matplotlib\\artist.py\", line 50, in draw_wrapper\n    return draw(artist, renderer)\n  File \"C:\\Users\\bw\\.conda\\envs\\dynamics\\lib\\site-packages\\matplotlib\\figure.py\", line 2811, in draw\n    renderer, self, artists, self.suppressComposite)\n  File \"C:\\Users\\bw\\.conda\\envs\\dynamics\\lib\\site-packages\\matplotlib\\image.py\", line 132, in _draw_list_compositing_images\n    a.draw(renderer)\n  File \"C:\\Users\\bw\\.conda\\envs\\dynamics\\lib\\site-packages\\matplotlib\\artist.py\", line 50, in draw_wrapper\n    return draw(artist, renderer)\n  File \"C:\\Users\\bw\\.conda\\envs\\dynamics\\lib\\site-packages\\matplotlib\\axes\\_base.py\", line 3083, in draw\n    renderer, self, artists, self.figure.suppressComposite)\n  File \"C:\\Users\\bw\\.conda\\envs\\dynamics\\lib\\site-packages\\matplotlib\\image.py\", line 132, in _draw_list_compositing_images\n    a.draw(renderer)\n  File \"C:\\Users\\bw\\.conda\\envs\\dynamics\\lib\\site-packages\\matplotlib\\artist.py\", line 50, in draw_wrapper\n    return draw(artist, renderer)\n  File \"C:\\Users\\bw\\.conda\\envs\\dynamics\\lib\\site-packages\\matplotlib\\axis.py\", line 1158, in draw\n    ticks_to_draw = self._update_ticks()\n  File \"C:\\Users\\bw\\.conda\\envs\\dynamics\\lib\\site-packages\\matplotlib\\axis.py\", line 1053, in _update_ticks\n    minor_locs = self.get_minorticklocs()\n  File \"C:\\Users\\bw\\.conda\\envs\\dynamics\\lib\\site-packages\\matplotlib\\axis.py\", line 1282, in get_minorticklocs\n    major_locs = self.major.locator()\n  File \"C:\\Users\\bw\\.conda\\envs\\dynamics\\lib\\site-packages\\matplotlib\\ticker.py\", line 2114, in __call__\n    return self.tick_values(vmin, vmax)\n  File \"C:\\Users\\bw\\.conda\\envs\\dynamics\\lib\\site-packages\\matplotlib\\ticker.py\", line 2122, in tick_values\n    locs = self._raw_ticks(vmin, vmax)\n  File \"C:\\Users\\bw\\.conda\\envs\\dynamics\\lib\\site-packages\\matplotlib\\ticker.py\", line 2061, in _raw_ticks\n    nbins = np.clip(self.axis.get_tick_space(),\n  File \"C:\\Users\\bw\\.conda\\envs\\dynamics\\lib\\site-packages\\matplotlib\\axis.py\", line 2526, in get_tick_space\n    self.figure.dpi_scale_trans)\n  File \"C:\\Users\\bw\\.conda\\envs\\dynamics\\lib\\site-packages\\matplotlib\\transforms.py\", line 493, in transformed\n    [pts[0], [pts[0, 0], pts[1, 1]], [pts[1, 0], pts[0, 1]]]))\n  File \"C:\\Users\\bw\\.conda\\envs\\dynamics\\lib\\site-packages\\matplotlib\\transforms.py\", line 1503, in transform\n    res = self.transform_affine(self.transform_non_affine(values))\n  File \"C:\\Users\\bw\\.conda\\envs\\dynamics\\lib\\site-packages\\matplotlib\\transforms.py\", line 2419, in transform_affine\n    return self.get_affine().transform(points)\n  File \"C:\\Users\\bw\\.conda\\envs\\dynamics\\lib\\site-packages\\matplotlib\\transforms.py\", line 2447, in get_affine\n    self._a.get_affine().get_matrix()))\n  File \"<__array_function__ internals>\", line 6, in dot\nKeyboardInterrupt\n"
     ]
    }
   ],
   "source": [
    "# Initial Condition\n",
    "Hz = 10\n",
    "dT = 1/Hz\n",
    "Time = np.arange(0,300,1/Hz)\n",
    "dT_show = 3.0\n",
    "Time2show = 0\n",
    "g = 9.80665\n",
    "# Target\n",
    "Xt = np.array([[400,0]])\n",
    "# Guidance\n",
    "l1 = guidance_l1()\n",
    "l1.set_desired_radius(200.0)\n",
    "l1.set_k_eta(1.0)\n",
    "l1.set_dir_ccw()\n",
    "R_ref = l1.get_desired_radius()\n",
    "# States\n",
    "Spd_cmd = 10 # Airspeed\n",
    "Spd = Spd_cmd\n",
    "psi = 180.0 * math.pi / 180.0\n",
    "dcm = DCM(psi)\n",
    "# For plot\n",
    "a_ = np.array([[0,0]])\n",
    "V_ = np.array(dcm.dot(np.array([Spd,0])))\n",
    "X_ = np.array([[0,0]])\n",
    "psi_ = np.array([psi])\n",
    "t_ = np.array([0])\n",
    "Spd_ = np.array([Spd])\n",
    "G_ = np.array([0])\n",
    "L_ = np.array([np.linalg.norm(Xt)])\n",
    "eta_ = np.array([0])\n",
    "\n",
    "plt.close()\n",
    "def show_traj():\n",
    "    plt.subplot(221)\n",
    "    plt.plot(X_[:,0],X_[:,1],'b')\n",
    "    plt.plot(Xt[0,0],Xt[0,1],'ro')\n",
    "    plt.grid()\n",
    "    plt.xlabel('pN [m]');    plt.ylabel('pE [m]')\n",
    "    plt.subplot(222)\n",
    "    plt.plot(t_,G_)\n",
    "    plt.grid()\n",
    "    plt.xlabel('Time [sec]');    plt.ylabel('G')\n",
    "    # plt.plot(t_,Spd_)\n",
    "    # plt.grid()\n",
    "    # plt.xlabel('Time [sec]');    plt.ylabel('Speed [m/s')\n",
    "    plt.subplot(223)\n",
    "    plt.plot(t_,L_,'b')\n",
    "    plt.plot([0,t_[-1]],[R_ref, R_ref],'r:')\n",
    "    plt.grid()\n",
    "    plt.xlabel('Time [sec]');    plt.ylabel('L [m]')\n",
    "    plt.subplot(224)\n",
    "    plt.plot(t_,eta_*57.296)\n",
    "    # plt.plot(t_[-1],cwccw*10,'ro')\n",
    "    plt.grid()\n",
    "    plt.xlabel('Time [sec]');    plt.ylabel('eta [deg]')\n",
    "    plt.tight_layout()\n",
    "\n",
    "\n",
    "# for t in Time:\n",
    "for t in Time:\n",
    "    # Now..\n",
    "    target_pos = np.array([Xt[0,0], Xt[0,1], 0])\n",
    "    my_pos = np.array([X_[-1,0], X_[-1,1],0])\n",
    "    dX = target_pos - my_pos\n",
    "    L = np.array([dX[0],dX[1],0])\n",
    "    V = np.array([V_[-1,0],V_[-1,1],0])\n",
    "    e_L     = L / np.max([np.linalg.norm(L),0.000001])\n",
    "    e_V     = V / np.max([np.linalg.norm(V),0.000001])\n",
    "    Spd = np.sqrt(np.sum(np.square(V)))\n",
    "    psi = math.atan2(V_[-1,1],V_[-1,0])\n",
    "\n",
    "    # Guidance Law - Nonlinear Path Following \n",
    "    ## Loitering Guidance\n",
    "    ancmdxy = l1.step_loitering_2d(target_pos, my_pos, V)\n",
    "    eta     = l1.get_eta()\n",
    "    aTxy    = 0.1 * np.array([e_V[0], e_V[1]]) * (Spd_cmd - Spd) # Speed Control\n",
    "\n",
    "    ## Numerical Processing : euler method\n",
    "    a_   = np.append(a_, [ancmdxy] + aTxy,axis=0)\n",
    "    V_   = np.append(V_, [V_[-1] + np.array(a_[-1])*dT],axis=0)\n",
    "    X_   = np.append(X_, [X_[-1] + np.array(V_[-1])*dT],axis=0)\n",
    "    # States\n",
    "    G_   = np.append(G_,   np.array([np.linalg.norm(a_[-1])/g]))\n",
    "    t_   = np.append(t_,   np.array([t]),axis=0)\n",
    "    L_   = np.append(L_,   np.array([np.linalg.norm(L)]), axis=0)\n",
    "    Spd_ = np.append(Spd_, np.array([Spd]), axis=0)\n",
    "    psi_ = np.append(psi_, np.array([psi]),axis=0)\n",
    "    eta_ = np.append(eta_, np.array([eta]),axis=0)\n",
    "\n",
    "    # Drawing\n",
    "    if Time2show+dT_show < t:\n",
    "        drawnow(show_traj)\n",
    "        Time2show = Time2show + dT_show"
   ]
  }
 ]
}