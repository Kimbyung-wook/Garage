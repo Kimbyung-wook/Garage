{
 "metadata": {
  "language_info": {
   "codemirror_mode": {
    "name": "ipython",
    "version": 3
   },
   "file_extension": ".py",
   "mimetype": "text/x-python",
   "name": "python",
   "nbconvert_exporter": "python",
   "pygments_lexer": "ipython3",
   "version": "3.7.10-final"
  },
  "orig_nbformat": 2,
  "kernelspec": {
   "name": "python3",
   "display_name": "Python 3.7.10 64-bit ('booking': conda)",
   "metadata": {
    "interpreter": {
     "hash": "80c948d3d21650c38562142cea739bd06ba3775ca34ea6191353ce0abc98223d"
    }
   }
  }
 },
 "nbformat": 4,
 "nbformat_minor": 2,
 "cells": [
  {
   "cell_type": "code",
   "execution_count": 1,
   "metadata": {},
   "outputs": [],
   "source": [
    "import requests\n",
    "from bs4 import BeautifulSoup"
   ]
  },
  {
   "cell_type": "code",
   "execution_count": 18,
   "metadata": {},
   "outputs": [
    {
     "output_type": "stream",
     "name": "stdout",
     "text": [
      "유체이탈자 뜸!!\n2D 야!!\n<a data-playendtime=\"1257\" data-playnum=\"2\" data-playstarttime=\"1030\" data-playymd=\"20211117\" data-screencode=\"002\" data-screenkorname=\"2관(Laser)\" data-seatremaincnt=\"60\" data-theatercode=\"0013\" data-theatername=\"CGV 용산아이파크몰\" href=\"/ticket/?MOVIE_CD=20027782&amp;MOVIE_CD_GROUP=20027782&amp;PLAY_YMD=20211117&amp;THEATER_CD=0013&amp;PLAY_START_TM=1030&amp;AREA_CD=13&amp;SCREEN_CD=002\" target=\"_top\"><em>10:30</em><span class=\"txt-lightblue\"><span class=\"hidden\">잔여좌석</span>60석</span></a>\n<a data-playendtime=\"1542\" data-playnum=\"3\" data-playstarttime=\"1315\" data-playymd=\"20211117\" data-screencode=\"002\" data-screenkorname=\"2관(Laser)\" data-seatremaincnt=\"101\" data-theatercode=\"0013\" data-theatername=\"CGV 용산아이파크몰\" href=\"/ticket/?MOVIE_CD=20027782&amp;MOVIE_CD_GROUP=20027782&amp;PLAY_YMD=20211117&amp;THEATER_CD=0013&amp;PLAY_START_TM=1315&amp;AREA_CD=13&amp;SCREEN_CD=002\" target=\"_top\"><em>13:15</em><span class=\"txt-lightblue\"><span class=\"hidden\">잔여좌석</span>101석</span></a>\n<a data-playendtime=\"1827\" data-playnum=\"4\" data-playstarttime=\"1600\" data-playymd=\"20211117\" data-screencode=\"002\" data-screenkorname=\"2관(Laser)\" data-seatremaincnt=\"128\" data-theatercode=\"0013\" data-theatername=\"CGV 용산아이파크몰\" href=\"/ticket/?MOVIE_CD=20027782&amp;MOVIE_CD_GROUP=20027782&amp;PLAY_YMD=20211117&amp;THEATER_CD=0013&amp;PLAY_START_TM=1600&amp;AREA_CD=13&amp;SCREEN_CD=002\" target=\"_top\"><em>16:00</em><span class=\"txt-lightblue\"><span class=\"hidden\">잔여좌석</span>128석</span></a>\n<a data-playendtime=\"2112\" data-playnum=\"5\" data-playstarttime=\"1845\" data-playymd=\"20211117\" data-screencode=\"002\" data-screenkorname=\"2관(Laser)\" data-seatremaincnt=\"104\" data-theatercode=\"0013\" data-theatername=\"CGV 용산아이파크몰\" href=\"/ticket/?MOVIE_CD=20027782&amp;MOVIE_CD_GROUP=20027782&amp;PLAY_YMD=20211117&amp;THEATER_CD=0013&amp;PLAY_START_TM=1845&amp;AREA_CD=13&amp;SCREEN_CD=002\" target=\"_top\"><em>18:45</em><span class=\"txt-lightblue\"><span class=\"hidden\">잔여좌석</span>104석</span></a>\n<a data-playendtime=\"2357\" data-playnum=\"6\" data-playstarttime=\"2130\" data-playymd=\"20211117\" data-screencode=\"002\" data-screenkorname=\"2관(Laser)\" data-seatremaincnt=\"137\" data-theatercode=\"0013\" data-theatername=\"CGV 용산아이파크몰\" href=\"/ticket/?MOVIE_CD=20027782&amp;MOVIE_CD_GROUP=20027782&amp;PLAY_YMD=20211117&amp;THEATER_CD=0013&amp;PLAY_START_TM=2130&amp;AREA_CD=13&amp;SCREEN_CD=002\" target=\"_top\"><em>21:30</em><span class=\"txt-lightblue\"><span class=\"hidden\">잔여좌석</span>137석</span></a>\n2D 야!!\n<a href=\"/\" onclick=\"return false;\"><em>20:00</em><span class=\"txt-lightblue\">준비중</span><span class=\"timeset\"><em class=\"start-time\"></em><span class=\"end-time\">종료 21:58<i></i></span></span></a>\n준비중 ...\n<a href=\"/\" onclick=\"return false;\"><em>20:10</em><span class=\"txt-lightblue\">준비중</span><span class=\"timeset\"><em class=\"start-time\"></em><span class=\"end-time\">종료 22:08<i></i></span></span></a>\n준비중 ...\n"
     ]
    }
   ],
   "source": [
    "# url = \"http://www.cgv.co.kr/common/showtimes/iframeTheater.aspx?areacode=01&theatercode=0013&date=20211112\"\n",
    "# MovieName = '이터널스'\n",
    "# Theater = 'IMAX관'\n",
    "url = \"http://www.cgv.co.kr/common/showtimes/iframeTheater.aspx?areacode=01&theatercode=0013&date=20211117\"\n",
    "MovieName = '유체이탈자'\n",
    "Theater = '2D'\n",
    "resp = requests.get(url)\n",
    "html = resp.text\n",
    "soup = BeautifulSoup(html, 'html.parser')\n",
    "lists = soup.select('.col-times')\n",
    "out1 = ''\n",
    "out2 = ''\n",
    "for i in range(0,len(lists)):\n",
    "    if MovieName in str(lists[i]) and Theater in str(lists[i]):\n",
    "        print(MovieName, '뜸!!')\n",
    "        out1 = lists[i]\n",
    "        break\n",
    "\n",
    "soup1 = BeautifulSoup(str(out1), 'html.parser')\n",
    "lists1 = soup1.select('.type-hall')\n",
    "for i in range(0,len(lists1)):\n",
    "    if Theater in str(lists1[i]):\n",
    "        print(Theater, '야!!')\n",
    "        out2 = lists[i]\n",
    "        # break\n",
    "\n",
    "    soup2 = BeautifulSoup(str(out2), 'html.parser')\n",
    "    lists2 = soup2.select('div.info-timetable > ul > li > a')\n",
    "    for item in lists2:\n",
    "        print(item)\n",
    "        if '준비중' in str(item):\n",
    "            print('준비중 ...')\n",
    "        # else:\n",
    "        #     soup3 = BeautifulSoup(str(item), 'html.parser')\n",
    "        #     lists3 = soup3.select('div.info-timetable > ul > li > a')\n",
    "\n",
    "    # print(lists2)\n",
    "    # print('Eternals in lists idx %d'% i)\n",
    "    # soup2 = BeautifulSoup(str(lists[i]), 'html.parser')\n",
    "    # lists2 = soup2.select('.type-hall')\n",
    "    # if 'IMAX LASER' not in str(lists2):\n",
    "    #     continue\n",
    "    # print(lists2)"
   ]
  },
  {
   "cell_type": "code",
   "execution_count": null,
   "metadata": {},
   "outputs": [],
   "source": []
  }
 ]
}